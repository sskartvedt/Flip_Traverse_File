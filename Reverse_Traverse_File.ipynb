{
 "cells": [
  {
   "cell_type": "markdown",
   "metadata": {},
   "source": [
    "# Flip traverse file\n",
    "<br>\n",
    "NOTE: If curve is followed by comment (ie L/R is not at end of line), letters will not be swapped!\n",
    "<br>\n",
    "Reverse NT curves or curves not tangent on both side will need fixing\n",
    "<br>Also update SP coordinates"
   ]
  },
  {
   "cell_type": "code",
   "execution_count": 170,
   "metadata": {},
   "outputs": [],
   "source": [
    "import re"
   ]
  },
  {
   "cell_type": "code",
   "execution_count": 171,
   "metadata": {},
   "outputs": [],
   "source": [
    "# Input your directory path and file name to reverse here\n",
    "# ===========================\n",
    "directory_path = (r\"E:\\Parks\\California\\SAMO\\Zuma_Motorway\\Traverse\")\n",
    "filename = \"Zuma_Motorway_Original_Traverse.txt\"\n",
    "# ===========================\n",
    "\n",
    "\n",
    "path_filename = (directory_path + \"\\\\\" + filename)\n",
    "# Temp files\n",
    "reverse_filename = (directory_path + \"\\Temp01_\" + filename)\n",
    "swapLetters_filename = (directory_path + \"\\Temp02_\" + filename)\n",
    "\n",
    "# Final Output\n",
    "final_reverse_traverse = (directory_path + \"\\REVERSE_\" + filename)"
   ]
  },
  {
   "cell_type": "code",
   "execution_count": 172,
   "metadata": {},
   "outputs": [],
   "source": [
    "# reverse file\n",
    "def reverse_line_order (path_filename, reverse_filename):\n",
    "    with open(path_filename, 'r') as file:\n",
    "        lines = file.readlines ()\n",
    "    with open(reverse_filename, 'w') as file:\n",
    "        for line in reversed(lines):\n",
    "            file.write(line)"
   ]
  },
  {
   "cell_type": "code",
   "execution_count": 173,
   "metadata": {},
   "outputs": [],
   "source": [
    "reverse_line_order (path_filename, reverse_filename)"
   ]
  },
  {
   "cell_type": "code",
   "execution_count": 174,
   "metadata": {},
   "outputs": [],
   "source": [
    "def swap_letters (reverse_filename, swapLetters_filename):\n",
    "    with open(reverse_filename, 'r') as file:\n",
    "        text = file.read()\n",
    "\n",
    "    # swap SN if followed by number\n",
    "    temp_text = re.sub(r'([SN])(?=\\d)', lambda x: 'N' if x.group() == 'S' else 'S', text)\n",
    "    # swap EW if preceeded by number\n",
    "    temp_text = re.sub(r'(?<=\\d)([EW])', lambda x: 'W' if x.group() == 'E' else 'E', temp_text)\n",
    "    # swap LR if space and end of line\n",
    "    final_text = re.sub(r'(?<= )([L|R]$)', lambda x: 'R' if x.group() == 'L' else 'L', temp_text, flags=re.MULTILINE)\n",
    "\n",
    "    with open(swapLetters_filename, 'w') as file:\n",
    "        file.write(final_text)\n"
   ]
  },
  {
   "cell_type": "code",
   "execution_count": 175,
   "metadata": {},
   "outputs": [],
   "source": [
    "swap_letters (reverse_filename, swapLetters_filename)"
   ]
  },
  {
   "cell_type": "code",
   "execution_count": 176,
   "metadata": {},
   "outputs": [],
   "source": [
    "def reorder_last_three_lines (swapLetters_filename, final_reverse_traverse):\n",
    "    with open (swapLetters_filename, 'r') as file:\n",
    "        lines = file.readlines()\n",
    "        last_three_lines = lines[-3:][::-1]\n",
    "        remaining_lines = lines[:-3]\n",
    "        final_lines = last_three_lines + remaining_lines\n",
    "        \n",
    "    with open (final_reverse_traverse, 'w') as file:\n",
    "        file.writelines(final_lines)"
   ]
  },
  {
   "cell_type": "code",
   "execution_count": 177,
   "metadata": {},
   "outputs": [],
   "source": [
    "reorder_last_three_lines (swapLetters_filename, final_reverse_traverse)"
   ]
  },
  {
   "cell_type": "code",
   "execution_count": null,
   "metadata": {},
   "outputs": [],
   "source": []
  }
 ],
 "metadata": {
  "kernelspec": {
   "display_name": "ArcGISPro",
   "language": "Python",
   "name": "python3"
  },
  "language_info": {
   "file_extension": ".py",
   "name": "python",
   "version": "3"
  }
 },
 "nbformat": 4,
 "nbformat_minor": 2
}
